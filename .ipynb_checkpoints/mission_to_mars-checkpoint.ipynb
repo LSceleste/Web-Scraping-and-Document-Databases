{
 "cells": [
  {
   "cell_type": "code",
   "execution_count": 1,
   "metadata": {},
   "outputs": [],
   "source": [
    "# Dependencies\n",
    "from bs4 import BeautifulSoup\n",
    "from splinter import Browser\n",
    "import requests\n",
    "import pymongo\n",
    "import pandas as pd"
   ]
  },
  {
   "cell_type": "code",
   "execution_count": 2,
   "metadata": {},
   "outputs": [],
   "source": [
    "# Initialize PyMongo to work with MongoDBs\n",
    "conn = 'mongodb://localhost:27017'\n",
    "client = pymongo.MongoClient(conn)"
   ]
  },
  {
   "cell_type": "code",
   "execution_count": 3,
   "metadata": {},
   "outputs": [
    {
     "name": "stdout",
     "output_type": "stream",
     "text": [
      "/usr/local/bin/chromedriver\r\n"
     ]
    }
   ],
   "source": [
    "!which chromedriver"
   ]
  },
  {
   "cell_type": "code",
   "execution_count": 4,
   "metadata": {},
   "outputs": [],
   "source": [
    "executable_path = {'executable_path': '/usr/local/bin/chromedriver'}\n",
    "browser = Browser('chrome', **executable_path, headless=False)"
   ]
  },
  {
   "cell_type": "code",
   "execution_count": 5,
   "metadata": {},
   "outputs": [],
   "source": [
    "url = 'https://mars.nasa.gov/news/'\n",
    "browser.visit(url)"
   ]
  },
  {
   "cell_type": "code",
   "execution_count": 6,
   "metadata": {},
   "outputs": [],
   "source": [
    "html = browser.html"
   ]
  },
  {
   "cell_type": "code",
   "execution_count": 7,
   "metadata": {},
   "outputs": [],
   "source": [
    "soup = BeautifulSoup(html, 'html.parser')"
   ]
  },
  {
   "cell_type": "code",
   "execution_count": 8,
   "metadata": {},
   "outputs": [
    {
     "data": {
      "text/plain": [
       "\"NASA's MRO Completes 60,000 Trips Around Mars\""
      ]
     },
     "execution_count": 8,
     "metadata": {},
     "output_type": "execute_result"
    }
   ],
   "source": [
    "news_title = soup.find('div', class_= 'content_title').text\n",
    "news_title"
   ]
  },
  {
   "cell_type": "code",
   "execution_count": 9,
   "metadata": {},
   "outputs": [
    {
     "data": {
      "text/plain": [
       "'The orbiting spacecraft is also about to set a record for data relayed from the Martian surface.'"
      ]
     },
     "execution_count": 9,
     "metadata": {},
     "output_type": "execute_result"
    }
   ],
   "source": [
    "news_body = soup.find('div', class_='article_teaser_body').text\n",
    "news_body"
   ]
  },
  {
   "cell_type": "code",
   "execution_count": 10,
   "metadata": {},
   "outputs": [],
   "source": [
    "#browser.quit()"
   ]
  },
  {
   "cell_type": "code",
   "execution_count": 11,
   "metadata": {},
   "outputs": [],
   "source": [
    "url2 = 'https://www.jpl.nasa.gov/spaceimages/?search=&category=Mars'\n",
    "browser.visit(url2)"
   ]
  },
  {
   "cell_type": "code",
   "execution_count": null,
   "metadata": {},
   "outputs": [],
   "source": []
  },
  {
   "cell_type": "code",
   "execution_count": 12,
   "metadata": {},
   "outputs": [],
   "source": [
    "html2 = browser.html"
   ]
  },
  {
   "cell_type": "code",
   "execution_count": 13,
   "metadata": {},
   "outputs": [],
   "source": [
    "soup2 = BeautifulSoup(html2, 'html.parser')"
   ]
  },
  {
   "cell_type": "code",
   "execution_count": 14,
   "metadata": {},
   "outputs": [
    {
     "data": {
      "text/plain": [
       "'<section class=\"grid_gallery module grid_view\">\\n <div class=\"grid_layout\">\\n  <header>\\n   <h2 class=\"module_title\">\\n    Mars Images\\n   </h2>\\n   <div class=\"view_selectors\">\\n    <a class=\"nav_item ir list_icon\">\\n     list view\\n    </a>\\n    <a class=\"nav_item ir grid_icon\">\\n     grid view\\n    </a>\\n   </div>\\n  </header>\\n  <ul class=\"articles\">\\n   <li class=\"slide\">\\n    <a class=\"fancybox\" data-description=\"This image from NASAs Mars Odyssey shows an unnamed crater north of Meridiani Planum.\" data-fancybox-group=\"images\" data-fancybox-href=\"/spaceimages/images/largesize/PIA23220_hires.jpg\" data-link=\"/spaceimages/details.php?id=PIA23220\" data-thumbnail=\"/spaceimages/images/wallpaper/PIA23220-640x350.jpg\" data-title=\"Crater Dunes - False Color\">\\n     <div class=\"image_and_description_container\">\\n      <div class=\"rollover_description\">\\n       <h3 class=\"release_date\">\\n        May 16, 2019\\n       </h3>\\n       <div class=\"item_tease_overlay\">\\n        Crater Dunes - False Color\\n       </div>\\n       <div class=\"overlay_arrow\">\\n        <img alt=\"more arrow\" src=\"/assets/images/overlay-arrow.png\"/>\\n       </div>\\n      </div>\\n      <div class=\"img\">\\n       <img alt=\"Crater Dunes - False Color\" class=\"thumb\" src=\"/spaceimages/images/wallpaper/PIA23220-640x350.jpg\" title=\"Crater Dunes - False Color\"/>\\n      </div>\\n      <div class=\"list_text_content\">\\n       <div class=\"article_teaser_body\">\\n        May 16, 2019\\n       </div>\\n       <div class=\"content_title\">\\n        Crater Dunes - False Color\\n       </div>\\n       <div class=\"article_teaser_body\">\\n        This image from NASAs Mars Odyssey shows an unnamed crater north of Meridiani Planum.\\n       </div>\\n      </div>\\n     </div>\\n    </a>\\n   </li>\\n   <li class=\"slide\">\\n    <a class=\"fancybox\" data-description=\"This image of Jezero Crater on Mars, the landing site for NASAs Mars 2020 mission, was taken by instruments on NASAs Mars Reconnaissance Orbiter.\" data-fancybox-group=\"images\" data-fancybox-href=\"/spaceimages/images/largesize/PIA23239_hires.jpg\" data-link=\"/spaceimages/details.php?id=PIA23239\" data-thumbnail=\"/spaceimages/images/wallpaper/PIA23239-640x350.jpg\" data-title=\"Jezero Crater, Mars 2020\" landing=\"\" s=\"\" site\\'=\"\">\\n     <div class=\"image_and_description_container\">\\n      <div class=\"rollover_description\">\\n       <h3 class=\"release_date\">\\n        May 15, 2019\\n       </h3>\\n       <div class=\"item_tease_overlay\">\\n        Jezero Crater, Mars 2020\\'s Landing Site\\n       </div>\\n       <div class=\"overlay_arrow\">\\n        <img alt=\"more arrow\" src=\"/assets/images/overlay-arrow.png\"/>\\n       </div>\\n      </div>\\n      <div class=\"img\">\\n       <img alt=\"Jezero Crater, Mars 2020\" class=\"thumb\" landing=\"\" s=\"\" site\\'=\"\" src=\"/spaceimages/images/wallpaper/PIA23239-640x350.jpg\" title=\"Jezero Crater, Mars 2020\"/>\\n      </div>\\n      <div class=\"list_text_content\">\\n       <div class=\"article_teaser_body\">\\n        May 15, 2019\\n       </div>\\n       <div class=\"content_title\">\\n        Jezero Crater, Mars 2020\\'s Landing Site\\n       </div>\\n       <div class=\"article_teaser_body\">\\n        This image of Jezero Crater on Mars, the landing site for NASAs Mars 2020 mission, was taken by instruments on NASAs Mars Reconnaissance Orbiter.\\n       </div>\\n      </div>\\n     </div>\\n    </a>\\n   </li>\\n   <li class=\"slide\">\\n    <a class=\"fancybox\" data-description=\"This series of images shows carbon dioxide ice sublimating (going directly from a solid to a gas) inside a pit at Mars south pole. Each frame of the animation was taken by the HiRISE camera on NASAs Mars Reconnaissance Orbiter.\" data-fancybox-group=\"images\" data-fancybox-href=\"/spaceimages/images/largesize/PIA23238_hires.jpg\" data-link=\"/spaceimages/details.php?id=PIA23238\" data-thumbnail=\"/spaceimages/images/wallpaper/PIA23238-640x350.jpg\" data-title=\"HiRISE Spots CO2 Ice Sublimating\">\\n     <div class=\"image_and_description_container\">\\n      <div class=\"rollover_description\">\\n       <h3 class=\"release_date\">\\n        May 15, 2019\\n       </h3>\\n       <div class=\"item_tease_overlay\">\\n        HiRISE Spots CO2 Ice Sublimating\\n       </div>\\n       <div class=\"overlay_arrow\">\\n        <img alt=\"more arrow\" src=\"/assets/images/overlay-arrow.png\"/>\\n       </div>\\n      </div>\\n      <div class=\"img\">\\n       <img alt=\"HiRISE Spots CO2 Ice Sublimating\" class=\"thumb\" src=\"/spaceimages/images/wallpaper/PIA23238-640x350.jpg\" title=\"HiRISE Spots CO2 Ice Sublimating\"/>\\n      </div>\\n      <div class=\"list_text_content\">\\n       <div class=\"article_teaser_body\">\\n        May 15, 2019\\n       </div>\\n       <div class=\"content_title\">\\n        HiRISE Spots CO2 Ice Sublimating\\n       </div>\\n       <div class=\"article_teaser_body\">\\n        This series of images shows carbon dioxide ice sublimating (going directly from a solid to a gas) inside a pit at Mars south pole. Each frame of the animation was taken by the HiRISE camera on NASAs Mars Reconnaissance Orbiter.\\n       </div>\\n      </div>\\n     </div>\\n    </a>\\n   </li>\\n   <li class=\"slide\">\\n    <a class=\"fancybox\" data-description=\"This image acquired on March 24, 2019 by NASAs Mars Reconnaissance Orbiter, revisits an impact site in this area first imaged in December 2017.\" data-fancybox-group=\"images\" data-fancybox-href=\"/spaceimages/images/largesize/PIA23233_hires.jpg\" data-link=\"/spaceimages/details.php?id=PIA23233\" data-thumbnail=\"/spaceimages/images/wallpaper/PIA23233-640x350.jpg\" data-title=\"The Changing Surface of Mars\">\\n     <div class=\"image_and_description_container\">\\n      <div class=\"rollover_description\">\\n       <h3 class=\"release_date\">\\n        May 15, 2019\\n       </h3>\\n       <div class=\"item_tease_overlay\">\\n        The Changing Surface of Mars\\n       </div>\\n       <div class=\"overlay_arrow\">\\n        <img alt=\"more arrow\" src=\"/assets/images/overlay-arrow.png\"/>\\n       </div>\\n      </div>\\n      <div class=\"img\">\\n       <img alt=\"The Changing Surface of Mars\" class=\"thumb\" src=\"/spaceimages/images/wallpaper/PIA23233-640x350.jpg\" title=\"The Changing Surface of Mars\"/>\\n      </div>\\n      <div class=\"list_text_content\">\\n       <div class=\"article_teaser_body\">\\n        May 15, 2019\\n       </div>\\n       <div class=\"content_title\">\\n        The Changing Surface of Mars\\n       </div>\\n       <div class=\"article_teaser_body\">\\n        This image acquired on March 24, 2019 by NASAs Mars Reconnaissance Orbiter, revisits an impact site in this area first imaged in December 2017.\\n       </div>\\n      </div>\\n     </div>\\n    </a>\\n   </li>\\n   <li class=\"slide\">\\n    <a class=\"fancybox\" data-description=\"This image acquired on February 23, 2019 by NASAs Mars Reconnaissance Orbiter, shows a small landslide in Iani Chaos. Landslides are common on Mars where there are steep slopes, including this area where there are numerous mounds and hills.\" data-fancybox-group=\"images\" data-fancybox-href=\"/spaceimages/images/largesize/PIA23232_hires.jpg\" data-link=\"/spaceimages/details.php?id=PIA23232\" data-thumbnail=\"/spaceimages/images/wallpaper/PIA23232-640x350.jpg\" data-title=\"A Snow Plow Landslide\">\\n     <div class=\"image_and_description_container\">\\n      <div class=\"rollover_description\">\\n       <h3 class=\"release_date\">\\n        May 15, 2019\\n       </h3>\\n       <div class=\"item_tease_overlay\">\\n        A Snow Plow Landslide\\n       </div>\\n       <div class=\"overlay_arrow\">\\n        <img alt=\"more arrow\" src=\"/assets/images/overlay-arrow.png\"/>\\n       </div>\\n      </div>\\n      <div class=\"img\">\\n       <img alt=\"A Snow Plow Landslide\" class=\"thumb\" src=\"/spaceimages/images/wallpaper/PIA23232-640x350.jpg\" title=\"A Snow Plow Landslide\"/>\\n      </div>\\n      <div class=\"list_text_content\">\\n       <div class=\"article_teaser_body\">\\n        May 15, 2019\\n       </div>\\n       <div class=\"content_title\">\\n        A Snow Plow Landslide\\n       </div>\\n       <div class=\"article_teaser_body\">\\n        This image acquired on February 23, 2019 by NASAs Mars Reconnaissance Orbiter, shows a small landslide in Iani Chaos. Landslides are common on Mars where there are steep slopes, including this area where there are numerous mounds and hills.\\n       </div>\\n      </div>\\n     </div>\\n    </a>\\n   </li>\\n   <li class=\"slide\">\\n    <a class=\"fancybox\" data-description=\"This image acquired on February 18, 2019 by NASAs Mars Reconnaissance Orbiter, shows late winter angled illumination over dunes covered by carbon dioxide frost mixed with dust.\" data-fancybox-group=\"images\" data-fancybox-href=\"/spaceimages/images/largesize/PIA23231_hires.jpg\" data-link=\"/spaceimages/details.php?id=PIA23231\" data-thumbnail=\"/spaceimages/images/wallpaper/PIA23231-640x350.jpg\" data-title=\"A Frosted Surface\">\\n     <div class=\"image_and_description_container\">\\n      <div class=\"rollover_description\">\\n       <h3 class=\"release_date\">\\n        May 15, 2019\\n       </h3>\\n       <div class=\"item_tease_overlay\">\\n        A Frosted Surface\\n       </div>\\n       <div class=\"overlay_arrow\">\\n        <img alt=\"more arrow\" src=\"/assets/images/overlay-arrow.png\"/>\\n       </div>\\n      </div>\\n      <div class=\"img\">\\n       <img alt=\"A Frosted Surface\" class=\"thumb\" src=\"/spaceimages/images/wallpaper/PIA23231-640x350.jpg\" title=\"A Frosted Surface\"/>\\n      </div>\\n      <div class=\"list_text_content\">\\n       <div class=\"article_teaser_body\">\\n        May 15, 2019\\n       </div>\\n       <div class=\"content_title\">\\n        A Frosted Surface\\n       </div>\\n       <div class=\"article_teaser_body\">\\n        This image acquired on February 18, 2019 by NASAs Mars Reconnaissance Orbiter, shows late winter angled illumination over dunes covered by carbon dioxide frost mixed with dust.\\n       </div>\\n      </div>\\n     </div>\\n    </a>\\n   </li>\\n   <li class=\"slide\">\\n    <a class=\"fancybox\" data-description=\"This image acquired on January 29, 2019 by NASAs Mars Reconnaissance Orbiter, shows the southern half of the picture is covered by a well-preserved lava flow.\" data-fancybox-group=\"images\" data-fancybox-href=\"/spaceimages/images/largesize/PIA23230_hires.jpg\" data-link=\"/spaceimages/details.php?id=PIA23230\" data-thumbnail=\"/spaceimages/images/wallpaper/PIA23230-640x350.jpg\" data-title=\"Resistant Lava and Erosion\">\\n     <div class=\"image_and_description_container\">\\n      <div class=\"rollover_description\">\\n       <h3 class=\"release_date\">\\n        May 15, 2019\\n       </h3>\\n       <div class=\"item_tease_overlay\">\\n        Resistant Lava and Erosion\\n       </div>\\n       <div class=\"overlay_arrow\">\\n        <img alt=\"more arrow\" src=\"/assets/images/overlay-arrow.png\"/>\\n       </div>\\n      </div>\\n      <div class=\"img\">\\n       <img alt=\"Resistant Lava and Erosion\" class=\"thumb\" src=\"/spaceimages/images/wallpaper/PIA23230-640x350.jpg\" title=\"Resistant Lava and Erosion\"/>\\n      </div>\\n      <div class=\"list_text_content\">\\n       <div class=\"article_teaser_body\">\\n        May 15, 2019\\n       </div>\\n       <div class=\"content_title\">\\n        Resistant Lava and Erosion\\n       </div>\\n       <div class=\"article_teaser_body\">\\n        This image acquired on January 29, 2019 by NASAs Mars Reconnaissance Orbiter, shows the southern half of the picture is covered by a well-preserved lava flow.\\n       </div>\\n      </div>\\n     </div>\\n    </a>\\n   </li>\\n   <li class=\"slide\">\\n    <a class=\"fancybox\" data-description=\"This animation shows a proposed route for NASAs Curiosity rover, which is climbing lower Mount Sharp on Mars.\" data-fancybox-group=\"images\" data-fancybox-href=\"/spaceimages/images/largesize/PIA23179_hires.jpg\" data-link=\"/spaceimages/details.php?id=PIA23179\" data-thumbnail=\"/spaceimages/images/wallpaper/PIA23179-640x350.jpg\" data-title=\"Curiosity\" mount=\"\" path=\"\" proposed=\"\" s=\"\" sharp\\'=\"\" up=\"\">\\n     <div class=\"image_and_description_container\">\\n      <div class=\"rollover_description\">\\n       <h3 class=\"release_date\">\\n        May 15, 2019\\n       </h3>\\n       <div class=\"item_tease_overlay\">\\n        Curiosity\\'s Proposed Path up Mount Sharp\\n       </div>\\n       <div class=\"overlay_arrow\">\\n        <img alt=\"more arrow\" src=\"/assets/images/overlay-arrow.png\"/>\\n       </div>\\n      </div>\\n      <div class=\"img\">\\n       <img alt=\"Curiosity\" class=\"thumb\" mount=\"\" path=\"\" proposed=\"\" s=\"\" sharp\\'=\"\" src=\"/spaceimages/images/wallpaper/PIA23179-640x350.jpg\" title=\"Curiosity\" up=\"\"/>\\n      </div>\\n      <div class=\"list_text_content\">\\n       <div class=\"article_teaser_body\">\\n        May 15, 2019\\n       </div>\\n       <div class=\"content_title\">\\n        Curiosity\\'s Proposed Path up Mount Sharp\\n       </div>\\n       <div class=\"article_teaser_body\">\\n        This animation shows a proposed route for NASAs Curiosity rover, which is climbing lower Mount Sharp on Mars.\\n       </div>\\n      </div>\\n     </div>\\n    </a>\\n   </li>\\n   <li class=\"slide\">\\n    <a class=\"fancybox\" data-description=\"This image from NASAs Mars Odyssey shows part of Endeavour Crater in Meridiani Planum.\" data-fancybox-group=\"images\" data-fancybox-href=\"/spaceimages/images/largesize/PIA23219_hires.jpg\" data-link=\"/spaceimages/details.php?id=PIA23219\" data-thumbnail=\"/spaceimages/images/wallpaper/PIA23219-640x350.jpg\" data-title=\"Endeavour Crater - False Color\">\\n     <div class=\"image_and_description_container\">\\n      <div class=\"rollover_description\">\\n       <h3 class=\"release_date\">\\n        May 15, 2019\\n       </h3>\\n       <div class=\"item_tease_overlay\">\\n        Endeavour Crater - False Color\\n       </div>\\n       <div class=\"overlay_arrow\">\\n        <img alt=\"more arrow\" src=\"/assets/images/overlay-arrow.png\"/>\\n       </div>\\n      </div>\\n      <div class=\"img\">\\n       <img alt=\"Endeavour Crater - False Color\" class=\"thumb\" src=\"/spaceimages/images/wallpaper/PIA23219-640x350.jpg\" title=\"Endeavour Crater - False Color\"/>\\n      </div>\\n      <div class=\"list_text_content\">\\n       <div class=\"article_teaser_body\">\\n        May 15, 2019\\n       </div>\\n       <div class=\"content_title\">\\n        Endeavour Crater - False Color\\n       </div>\\n       <div class=\"article_teaser_body\">\\n        This image from NASAs Mars Odyssey shows part of Endeavour Crater in Meridiani Planum.\\n       </div>\\n      </div>\\n     </div>\\n    </a>\\n   </li>\\n   <li class=\"slide\">\\n    <a class=\"fancybox\" data-description=\"This image from NASAs Mars Odyssey shows part of Arabia Terra.\" data-fancybox-group=\"images\" data-fancybox-href=\"/spaceimages/images/largesize/PIA23218_hires.jpg\" data-link=\"/spaceimages/details.php?id=PIA23218\" data-thumbnail=\"/spaceimages/images/wallpaper/PIA23218-640x350.jpg\" data-title=\"Arabia Terra - False Color\">\\n     <div class=\"image_and_description_container\">\\n      <div class=\"rollover_description\">\\n       <h3 class=\"release_date\">\\n        May 14, 2019\\n       </h3>\\n       <div class=\"item_tease_overlay\">\\n        Arabia Terra - False Color\\n       </div>\\n       <div class=\"overlay_arrow\">\\n        <img alt=\"more arrow\" src=\"/assets/images/overlay-arrow.png\"/>\\n       </div>\\n      </div>\\n      <div class=\"img\">\\n       <img alt=\"Arabia Terra - False Color\" class=\"thumb\" src=\"/spaceimages/images/wallpaper/PIA23218-640x350.jpg\" title=\"Arabia Terra - False Color\"/>\\n      </div>\\n      <div class=\"list_text_content\">\\n       <div class=\"article_teaser_body\">\\n        May 14, 2019\\n       </div>\\n       <div class=\"content_title\">\\n        Arabia Terra - False Color\\n       </div>\\n       <div class=\"article_teaser_body\">\\n        This image from NASAs Mars Odyssey shows part of Arabia Terra.\\n       </div>\\n      </div>\\n     </div>\\n    </a>\\n   </li>\\n   <li class=\"slide\">\\n    <a class=\"fancybox\" data-description=\"This image from NASAs Mars Odyssey shows part of the plains of Noachis Terra southwest of Schiaparelli Crater.\" data-fancybox-group=\"images\" data-fancybox-href=\"/spaceimages/images/largesize/PIA23217_hires.jpg\" data-link=\"/spaceimages/details.php?id=PIA23217\" data-thumbnail=\"/spaceimages/images/wallpaper/PIA23217-640x350.jpg\" data-title=\"Noachis Terra - False Color\">\\n     <div class=\"image_and_description_container\">\\n      <div class=\"rollover_description\">\\n       <h3 class=\"release_date\">\\n        May 13, 2019\\n       </h3>\\n       <div class=\"item_tease_overlay\">\\n        Noachis Terra - False Color\\n       </div>\\n       <div class=\"overlay_arrow\">\\n        <img alt=\"more arrow\" src=\"/assets/images/overlay-arrow.png\"/>\\n       </div>\\n      </div>\\n      <div class=\"img\">\\n       <img alt=\"Noachis Terra - False Color\" class=\"thumb\" src=\"/spaceimages/images/wallpaper/PIA23217-640x350.jpg\" title=\"Noachis Terra - False Color\"/>\\n      </div>\\n      <div class=\"list_text_content\">\\n       <div class=\"article_teaser_body\">\\n        May 13, 2019\\n       </div>\\n       <div class=\"content_title\">\\n        Noachis Terra - False Color\\n       </div>\\n       <div class=\"article_teaser_body\">\\n        This image from NASAs Mars Odyssey shows part of the plains of Noachis Terra southwest of Schiaparelli Crater.\\n       </div>\\n      </div>\\n     </div>\\n    </a>\\n   </li>\\n   <li class=\"slide\">\\n    <a class=\"fancybox\" data-description=\"This image from NASAs Mars Odyssey shows part of Terra Cimmeria.\" data-fancybox-group=\"images\" data-fancybox-href=\"/spaceimages/images/largesize/PIA23216_hires.jpg\" data-link=\"/spaceimages/details.php?id=PIA23216\" data-thumbnail=\"/spaceimages/images/wallpaper/PIA23216-640x350.jpg\" data-title=\"Terra Cimmeria - False Color\">\\n     <div class=\"image_and_description_container\">\\n      <div class=\"rollover_description\">\\n       <h3 class=\"release_date\">\\n        May 10, 2019\\n       </h3>\\n       <div class=\"item_tease_overlay\">\\n        Terra Cimmeria - False Color\\n       </div>\\n       <div class=\"overlay_arrow\">\\n        <img alt=\"more arrow\" src=\"/assets/images/overlay-arrow.png\"/>\\n       </div>\\n      </div>\\n      <div class=\"img\">\\n       <img alt=\"Terra Cimmeria - False Color\" class=\"thumb\" src=\"/spaceimages/images/wallpaper/PIA23216-640x350.jpg\" title=\"Terra Cimmeria - False Color\"/>\\n      </div>\\n      <div class=\"list_text_content\">\\n       <div class=\"article_teaser_body\">\\n        May 10, 2019\\n       </div>\\n       <div class=\"content_title\">\\n        Terra Cimmeria - False Color\\n       </div>\\n       <div class=\"article_teaser_body\">\\n        This image from NASAs Mars Odyssey shows part of Terra Cimmeria.\\n       </div>\\n      </div>\\n     </div>\\n    </a>\\n   </li>\\n   <li class=\"slide\">\\n    <a class=\"fancybox\" data-description=\"Each of the three panels is a series of images taken on different dates. Deimos, Mars other moon, can also be seen in the second panel.\" data-fancybox-group=\"images\" data-fancybox-href=\"/spaceimages/images/largesize/PIA23208_hires.jpg\" data-link=\"/spaceimages/details.php?id=PIA23208\" data-thumbnail=\"/spaceimages/images/wallpaper/PIA23208-640x350.jpg\" data-title=\"Odyssey\" in=\"\" light\\'=\"\" of=\"\" phobos=\"\" s=\"\" three=\"\" views=\"\" visible=\"\">\\n     <div class=\"image_and_description_container\">\\n      <div class=\"rollover_description\">\\n       <h3 class=\"release_date\">\\n        May 9, 2019\\n       </h3>\\n       <div class=\"item_tease_overlay\">\\n        Odyssey\\'s Three Views of Phobos in Visible Light\\n       </div>\\n       <div class=\"overlay_arrow\">\\n        <img alt=\"more arrow\" src=\"/assets/images/overlay-arrow.png\"/>\\n       </div>\\n      </div>\\n      <div class=\"img\">\\n       <img alt=\"Odyssey\" class=\"thumb\" in=\"\" light\\'=\"\" of=\"\" phobos=\"\" s=\"\" src=\"/spaceimages/images/wallpaper/PIA23208-640x350.jpg\" three=\"\" title=\"Odyssey\" views=\"\" visible=\"\"/>\\n      </div>\\n      <div class=\"list_text_content\">\\n       <div class=\"article_teaser_body\">\\n        May 9, 2019\\n       </div>\\n       <div class=\"content_title\">\\n        Odyssey\\'s Three Views of Phobos in Visible Light\\n       </div>\\n       <div class=\"article_teaser_body\">\\n        Each of the three panels is a series of images taken on different dates. Deimos, Mars other moon, can also be seen in the second panel.\\n       </div>\\n      </div>\\n     </div>\\n    </a>\\n   </li>\\n   <li class=\"slide\">\\n    <a class=\"fancybox\" data-description=\"This movie shows the Martian moon Phobos as viewed in visible light by NASAs 2001 Mars Odyssey orbiter on April 24, 2019.\" data-fancybox-group=\"images\" data-fancybox-href=\"/spaceimages/images/largesize/PIA23207_hires.jpg\" data-link=\"/spaceimages/details.php?id=PIA23207\" data-thumbnail=\"/spaceimages/images/wallpaper/PIA23207-640x350.jpg\" data-title=\"Odyssey Views Phobos in Visible Light: April 24, 2019\">\\n     <div class=\"image_and_description_container\">\\n      <div class=\"rollover_description\">\\n       <h3 class=\"release_date\">\\n        May 9, 2019\\n       </h3>\\n       <div class=\"item_tease_overlay\">\\n        Odyssey Views Phobos in Visible Light: April 24, 2019\\n       </div>\\n       <div class=\"overlay_arrow\">\\n        <img alt=\"more arrow\" src=\"/assets/images/overlay-arrow.png\"/>\\n       </div>\\n      </div>\\n      <div class=\"img\">\\n       <img alt=\"Odyssey Views Phobos in Visible Light: April 24, 2019\" class=\"thumb\" src=\"/spaceimages/images/wallpaper/PIA23207-640x350.jpg\" title=\"Odyssey Views Phobos in Visible Light: April 24, 2019\"/>\\n      </div>\\n      <div class=\"list_text_content\">\\n       <div class=\"article_teaser_body\">\\n        May 9, 2019\\n       </div>\\n       <div class=\"content_title\">\\n        Odyssey Views Phobos in Visible Light: April 24, 2019\\n       </div>\\n       <div class=\"article_teaser_body\">\\n        This movie shows the Martian moon Phobos as viewed in visible light by NASAs 2001 Mars Odyssey orbiter on April 24, 2019.\\n       </div>\\n      </div>\\n     </div>\\n    </a>\\n   </li>\\n   <li class=\"slide\">\\n    <a class=\"fancybox\" data-description=\"These are two views of the same observation of the Martian moon Phobos taken in both infrared and visible light by NASAs 2001 Mars Odyssey orbiter using its THEMIS camera. The image was taken on April 24, 2019.\" data-fancybox-group=\"images\" data-fancybox-href=\"/spaceimages/images/largesize/PIA23206_hires.jpg\" data-link=\"/spaceimages/details.php?id=PIA23206\" data-thumbnail=\"/spaceimages/images/wallpaper/PIA23206-640x350.jpg\" data-title=\"Phobos: Comparing Infrared and Visible Light Views\">\\n     <div class=\"image_and_description_container\">\\n      <div class=\"rollover_description\">\\n       <h3 class=\"release_date\">\\n        May 9, 2019\\n       </h3>\\n       <div class=\"item_tease_overlay\">\\n        Phobos: Comparing Infrared and Visible Light Views\\n       </div>\\n       <div class=\"overlay_arrow\">\\n        <img alt=\"more arrow\" src=\"/assets/images/overlay-arrow.png\"/>\\n       </div>\\n      </div>\\n      <div class=\"img\">\\n       <img alt=\"Phobos: Comparing Infrared and Visible Light Views\" class=\"thumb\" src=\"/spaceimages/images/wallpaper/PIA23206-640x350.jpg\" title=\"Phobos: Comparing Infrared and Visible Light Views\"/>\\n      </div>\\n      <div class=\"list_text_content\">\\n       <div class=\"article_teaser_body\">\\n        May 9, 2019\\n       </div>\\n       <div class=\"content_title\">\\n        Phobos: Comparing Infrared and Visible Light Views\\n       </div>\\n       <div class=\"article_teaser_body\">\\n        These are two views of the same observation of the Martian moon Phobos taken in both infrared and visible light by NASAs 2001 Mars Odyssey orbiter using its THEMIS camera. The image was taken on April 24, 2019.\\n       </div>\\n      </div>\\n     </div>\\n    </a>\\n   </li>\\n   <li class=\"slide\">\\n    <a class=\"fancybox\" data-description=\"These three views of the Martian moon Phobos were taken by NASAs 2001 Mars Odyssey orbiter using its infrared camera, THEMIS.\" data-fancybox-group=\"images\" data-fancybox-href=\"/spaceimages/images/largesize/PIA23205_hires.jpg\" data-link=\"/spaceimages/details.php?id=PIA23205\" data-thumbnail=\"/spaceimages/images/wallpaper/PIA23205-640x350.jpg\" data-title=\"Odyssey\" of=\"\" phobos\\'=\"\" s=\"\" three=\"\" views=\"\">\\n     <div class=\"image_and_description_container\">\\n      <div class=\"rollover_description\">\\n       <h3 class=\"release_date\">\\n        May 9, 2019\\n       </h3>\\n       <div class=\"item_tease_overlay\">\\n        Odyssey\\'s Three Views of Phobos\\n       </div>\\n       <div class=\"overlay_arrow\">\\n        <img alt=\"more arrow\" src=\"/assets/images/overlay-arrow.png\"/>\\n       </div>\\n      </div>\\n      <div class=\"img\">\\n       <img alt=\"Odyssey\" class=\"thumb\" of=\"\" phobos\\'=\"\" s=\"\" src=\"/spaceimages/images/wallpaper/PIA23205-640x350.jpg\" three=\"\" title=\"Odyssey\" views=\"\"/>\\n      </div>\\n      <div class=\"list_text_content\">\\n       <div class=\"article_teaser_body\">\\n        May 9, 2019\\n       </div>\\n       <div class=\"content_title\">\\n        Odyssey\\'s Three Views of Phobos\\n       </div>\\n       <div class=\"article_teaser_body\">\\n        These three views of the Martian moon Phobos were taken by NASAs 2001 Mars Odyssey orbiter using its infrared camera, THEMIS.\\n       </div>\\n      </div>\\n     </div>\\n    </a>\\n   </li>\\n   <li class=\"slide\">\\n    <a class=\"fancybox\" data-description=\"Taken on April 24, 2019, this image shows the Martian moon Phobos, as viewed by NASAs 2001 Mars Odyssey orbiter using its infrared camera, THEMIS.\" data-fancybox-group=\"images\" data-fancybox-href=\"/spaceimages/images/largesize/PIA23204_hires.jpg\" data-link=\"/spaceimages/details.php?id=PIA23204\" data-thumbnail=\"/spaceimages/images/wallpaper/PIA23204-640x350.jpg\" data-title=\"Odyssey Views Phobos: April 24, 2019\">\\n     <div class=\"image_and_description_container\">\\n      <div class=\"rollover_description\">\\n       <h3 class=\"release_date\">\\n        May 9, 2019\\n       </h3>\\n       <div class=\"item_tease_overlay\">\\n        Odyssey Views Phobos: April 24, 2019\\n       </div>\\n       <div class=\"overlay_arrow\">\\n        <img alt=\"more arrow\" src=\"/assets/images/overlay-arrow.png\"/>\\n       </div>\\n      </div>\\n      <div class=\"img\">\\n       <img alt=\"Odyssey Views Phobos: April 24, 2019\" class=\"thumb\" src=\"/spaceimages/images/wallpaper/PIA23204-640x350.jpg\" title=\"Odyssey Views Phobos: April 24, 2019\"/>\\n      </div>\\n      <div class=\"list_text_content\">\\n       <div class=\"article_teaser_body\">\\n        May 9, 2019\\n       </div>\\n       <div class=\"content_title\">\\n        Odyssey Views Phobos: April 24, 2019\\n       </div>\\n       <div class=\"article_teaser_body\">\\n        Taken on April 24, 2019, this image shows the Martian moon Phobos, as viewed by NASAs 2001 Mars Odyssey orbiter using its infrared camera, THEMIS.\\n       </div>\\n      </div>\\n     </div>\\n    </a>\\n   </li>\\n   <li class=\"slide\">\\n    <a class=\"fancybox\" data-description=\"This image from NASAs Mars Odyssey shows part of Herschel Crater located in Terra Cimmeria.\" data-fancybox-group=\"images\" data-fancybox-href=\"/spaceimages/images/largesize/PIA23200_hires.jpg\" data-link=\"/spaceimages/details.php?id=PIA23200\" data-thumbnail=\"/spaceimages/images/wallpaper/PIA23200-640x350.jpg\" data-title=\"Herschel Crater - False Color\">\\n     <div class=\"image_and_description_container\">\\n      <div class=\"rollover_description\">\\n       <h3 class=\"release_date\">\\n        May 9, 2019\\n       </h3>\\n       <div class=\"item_tease_overlay\">\\n        Herschel Crater - False Color\\n       </div>\\n       <div class=\"overlay_arrow\">\\n        <img alt=\"more arrow\" src=\"/assets/images/overlay-arrow.png\"/>\\n       </div>\\n      </div>\\n      <div class=\"img\">\\n       <img alt=\"Herschel Crater - False Color\" class=\"thumb\" src=\"/spaceimages/images/wallpaper/PIA23200-640x350.jpg\" title=\"Herschel Crater - False Color\"/>\\n      </div>\\n      <div class=\"list_text_content\">\\n       <div class=\"article_teaser_body\">\\n        May 9, 2019\\n       </div>\\n       <div class=\"content_title\">\\n        Herschel Crater - False Color\\n       </div>\\n       <div class=\"article_teaser_body\">\\n        This image from NASAs Mars Odyssey shows part of Herschel Crater located in Terra Cimmeria.\\n       </div>\\n      </div>\\n     </div>\\n    </a>\\n   </li>\\n   <li class=\"slide\">\\n    <a class=\"fancybox\" data-description=\"This image from NASAs Mars Odyssey shows part of Noachis Terra. The large craters are unnamed, as is the channel in the center of the image.\" data-fancybox-group=\"images\" data-fancybox-href=\"/spaceimages/images/largesize/PIA23199_hires.jpg\" data-link=\"/spaceimages/details.php?id=PIA23199\" data-thumbnail=\"/spaceimages/images/wallpaper/PIA23199-640x350.jpg\" data-title=\"Noachis Terra - False Color\">\\n     <div class=\"image_and_description_container\">\\n      <div class=\"rollover_description\">\\n       <h3 class=\"release_date\">\\n        May 8, 2019\\n       </h3>\\n       <div class=\"item_tease_overlay\">\\n        Noachis Terra - False Color\\n       </div>\\n       <div class=\"overlay_arrow\">\\n        <img alt=\"more arrow\" src=\"/assets/images/overlay-arrow.png\"/>\\n       </div>\\n      </div>\\n      <div class=\"img\">\\n       <img alt=\"Noachis Terra - False Color\" class=\"thumb\" src=\"/spaceimages/images/wallpaper/PIA23199-640x350.jpg\" title=\"Noachis Terra - False Color\"/>\\n      </div>\\n      <div class=\"list_text_content\">\\n       <div class=\"article_teaser_body\">\\n        May 8, 2019\\n       </div>\\n       <div class=\"content_title\">\\n        Noachis Terra - False Color\\n       </div>\\n       <div class=\"article_teaser_body\">\\n        This image from NASAs Mars Odyssey shows part of Noachis Terra. The large craters are unnamed, as is the channel in the center of the image.\\n       </div>\\n      </div>\\n     </div>\\n    </a>\\n   </li>\\n   <li class=\"slide\">\\n    <a class=\"fancybox\" data-description=\"This image from NASAs Mars Odyssey shows part of Terra Sabaea.\" data-fancybox-group=\"images\" data-fancybox-href=\"/spaceimages/images/largesize/PIA23198_hires.jpg\" data-link=\"/spaceimages/details.php?id=PIA23198\" data-thumbnail=\"/spaceimages/images/wallpaper/PIA23198-640x350.jpg\" data-title=\"Terra Sabaea - False Color\">\\n     <div class=\"image_and_description_container\">\\n      <div class=\"rollover_description\">\\n       <h3 class=\"release_date\">\\n        May 7, 2019\\n       </h3>\\n       <div class=\"item_tease_overlay\">\\n        Terra Sabaea - False Color\\n       </div>\\n       <div class=\"overlay_arrow\">\\n        <img alt=\"more arrow\" src=\"/assets/images/overlay-arrow.png\"/>\\n       </div>\\n      </div>\\n      <div class=\"img\">\\n       <img alt=\"Terra Sabaea - False Color\" class=\"thumb\" src=\"/spaceimages/images/wallpaper/PIA23198-640x350.jpg\" title=\"Terra Sabaea - False Color\"/>\\n      </div>\\n      <div class=\"list_text_content\">\\n       <div class=\"article_teaser_body\">\\n        May 7, 2019\\n       </div>\\n       <div class=\"content_title\">\\n        Terra Sabaea - False Color\\n       </div>\\n       <div class=\"article_teaser_body\">\\n        This image from NASAs Mars Odyssey shows part of Terra Sabaea.\\n       </div>\\n      </div>\\n     </div>\\n    </a>\\n   </li>\\n   <li class=\"slide\">\\n    <a class=\"fancybox\" data-description=\"This is NASA InSights second full selfie on Mars. Since taking its first selfie, a thin coating of dust now covers the spacecraft.\" data-fancybox-group=\"images\" data-fancybox-href=\"/spaceimages/images/largesize/PIA23203_hires.jpg\" data-link=\"/spaceimages/details.php?id=PIA23203\" data-thumbnail=\"/spaceimages/images/wallpaper/PIA23203-640x350.jpg\" data-title=\"InSight\" dusty=\"\" s=\"\" selfie\\'=\"\">\\n     <div class=\"image_and_description_container\">\\n      <div class=\"rollover_description\">\\n       <h3 class=\"release_date\">\\n        May 6, 2019\\n       </h3>\\n       <div class=\"item_tease_overlay\">\\n        InSight\\'s Dusty Selfie\\n       </div>\\n       <div class=\"overlay_arrow\">\\n        <img alt=\"more arrow\" src=\"/assets/images/overlay-arrow.png\"/>\\n       </div>\\n      </div>\\n      <div class=\"img\">\\n       <img alt=\"InSight\" class=\"thumb\" dusty=\"\" s=\"\" selfie\\'=\"\" src=\"/spaceimages/images/wallpaper/PIA23203-640x350.jpg\" title=\"InSight\"/>\\n      </div>\\n      <div class=\"list_text_content\">\\n       <div class=\"article_teaser_body\">\\n        May 6, 2019\\n       </div>\\n       <div class=\"content_title\">\\n        InSight\\'s Dusty Selfie\\n       </div>\\n       <div class=\"article_teaser_body\">\\n        This is NASA InSights second full selfie on Mars. Since taking its first selfie, a thin coating of dust now covers the spacecraft.\\n       </div>\\n      </div>\\n     </div>\\n    </a>\\n   </li>\\n   <li class=\"slide\">\\n    <a class=\"fancybox\" data-description=\"This image from NASAs Mars Odyssey shows part of Sisyphi Cavi located in Noachis Terra near the south polar cap.\" data-fancybox-group=\"images\" data-fancybox-href=\"/spaceimages/images/largesize/PIA23191_hires.jpg\" data-link=\"/spaceimages/details.php?id=PIA23191\" data-thumbnail=\"/spaceimages/images/wallpaper/PIA23191-640x350.jpg\" data-title=\"Sisyphi Cavi\">\\n     <div class=\"image_and_description_container\">\\n      <div class=\"rollover_description\">\\n       <h3 class=\"release_date\">\\n        May 2, 2019\\n       </h3>\\n       <div class=\"item_tease_overlay\">\\n        Sisyphi Cavi\\n       </div>\\n       <div class=\"overlay_arrow\">\\n        <img alt=\"more arrow\" src=\"/assets/images/overlay-arrow.png\"/>\\n       </div>\\n      </div>\\n      <div class=\"img\">\\n       <img alt=\"Sisyphi Cavi\" class=\"thumb\" src=\"/spaceimages/images/wallpaper/PIA23191-640x350.jpg\" title=\"Sisyphi Cavi\"/>\\n      </div>\\n      <div class=\"list_text_content\">\\n       <div class=\"article_teaser_body\">\\n        May 2, 2019\\n       </div>\\n       <div class=\"content_title\">\\n        Sisyphi Cavi\\n       </div>\\n       <div class=\"article_teaser_body\">\\n        This image from NASAs Mars Odyssey shows part of Sisyphi Cavi located in Noachis Terra near the south polar cap.\\n       </div>\\n      </div>\\n     </div>\\n    </a>\\n   </li>\\n   <li class=\"slide\">\\n    <a class=\"fancybox\" data-description=\"NASAs InSight lander used the Instrument Deployment Camera (IDC) on the end of its robotic arm to image this sunset on Mars on April 25, 2019.\" data-fancybox-group=\"images\" data-fancybox-href=\"/spaceimages/images/largesize/PIA23202_hires.jpg\" data-link=\"/spaceimages/details.php?id=PIA23202\" data-thumbnail=\"/spaceimages/images/wallpaper/PIA23202-640x350.jpg\" data-title=\"InSight Images a Sunset on Mars\">\\n     <div class=\"image_and_description_container\">\\n      <div class=\"rollover_description\">\\n       <h3 class=\"release_date\">\\n        May 1, 2019\\n       </h3>\\n       <div class=\"item_tease_overlay\">\\n        InSight Images a Sunset on Mars\\n       </div>\\n       <div class=\"overlay_arrow\">\\n        <img alt=\"more arrow\" src=\"/assets/images/overlay-arrow.png\"/>\\n       </div>\\n      </div>\\n      <div class=\"img\">\\n       <img alt=\"InSight Images a Sunset on Mars\" class=\"thumb\" src=\"/spaceimages/images/wallpaper/PIA23202-640x350.jpg\" title=\"InSight Images a Sunset on Mars\"/>\\n      </div>\\n      <div class=\"list_text_content\">\\n       <div class=\"article_teaser_body\">\\n        May 1, 2019\\n       </div>\\n       <div class=\"content_title\">\\n        InSight Images a Sunset on Mars\\n       </div>\\n       <div class=\"article_teaser_body\">\\n        NASAs InSight lander used the Instrument Deployment Camera (IDC) on the end of its robotic arm to image this sunset on Mars on April 25, 2019.\\n       </div>\\n      </div>\\n     </div>\\n    </a>\\n   </li>\\n   <li class=\"slide\">\\n    <a class=\"fancybox\" data-description=\"NASAs InSight lander used its Instrument Deployment Camera (IDC) on the spacecrafts robotic arm to image this sunrise on Mars on April 24, 2019.\" data-fancybox-group=\"images\" data-fancybox-href=\"/spaceimages/images/largesize/PIA23201_hires.jpg\" data-link=\"/spaceimages/details.php?id=PIA23201\" data-thumbnail=\"/spaceimages/images/wallpaper/PIA23201-640x350.jpg\" data-title=\"InSight Images a Sunrise on Mars\">\\n     <div class=\"image_and_description_container\">\\n      <div class=\"rollover_description\">\\n       <h3 class=\"release_date\">\\n        May 1, 2019\\n       </h3>\\n       <div class=\"item_tease_overlay\">\\n        InSight Images a Sunrise on Mars\\n       </div>\\n       <div class=\"overlay_arrow\">\\n        <img alt=\"more arrow\" src=\"/assets/images/overlay-arrow.png\"/>\\n       </div>\\n      </div>\\n      <div class=\"img\">\\n       <img alt=\"InSight Images a Sunrise on Mars\" class=\"thumb\" src=\"/spaceimages/images/wallpaper/PIA23201-640x350.jpg\" title=\"InSight Images a Sunrise on Mars\"/>\\n      </div>\\n      <div class=\"list_text_content\">\\n       <div class=\"article_teaser_body\">\\n        May 1, 2019\\n       </div>\\n       <div class=\"content_title\">\\n        InSight Images a Sunrise on Mars\\n       </div>\\n       <div class=\"article_teaser_body\">\\n        NASAs InSight lander used its Instrument Deployment Camera (IDC) on the spacecrafts robotic arm to image this sunrise on Mars on April 24, 2019.\\n       </div>\\n      </div>\\n     </div>\\n    </a>\\n   </li>\\n   <li class=\"slide\">\\n    <a class=\"fancybox\" data-description=\"NASAs InSight used its Instrument Context Camera (ICC) beneath the landers deck to image these drifting clouds at sunset. This series of images was taken on April 25, 2019.\" data-fancybox-group=\"images\" data-fancybox-href=\"/spaceimages/images/largesize/PIA23180_hires.jpg\" data-link=\"/spaceimages/details.php?id=PIA23180\" data-thumbnail=\"/spaceimages/images/wallpaper/PIA23180-640x350.jpg\" data-title=\"InSight Images Clouds on Mars\">\\n     <div class=\"image_and_description_container\">\\n      <div class=\"rollover_description\">\\n       <h3 class=\"release_date\">\\n        May 1, 2019\\n       </h3>\\n       <div class=\"item_tease_overlay\">\\n        InSight Images Clouds on Mars\\n       </div>\\n       <div class=\"overlay_arrow\">\\n        <img alt=\"more arrow\" src=\"/assets/images/overlay-arrow.png\"/>\\n       </div>\\n      </div>\\n      <div class=\"img\">\\n       <img alt=\"InSight Images Clouds on Mars\" class=\"thumb\" src=\"/spaceimages/images/wallpaper/PIA23180-640x350.jpg\" title=\"InSight Images Clouds on Mars\"/>\\n      </div>\\n      <div class=\"list_text_content\">\\n       <div class=\"article_teaser_body\">\\n        May 1, 2019\\n       </div>\\n       <div class=\"content_title\">\\n        InSight Images Clouds on Mars\\n       </div>\\n       <div class=\"article_teaser_body\">\\n        NASAs InSight used its Instrument Context Camera (ICC) beneath the landers deck to image these drifting clouds at sunset. This series of images was taken on April 25, 2019.\\n       </div>\\n      </div>\\n     </div>\\n    </a>\\n   </li>\\n   <li class=\"slide\">\\n    <a class=\"fancybox\" data-description=\"This image from NASAs Mars Odyssey shows Gasa Crater located on the floor of a larger unnamed crater Eridania Planitia.\" data-fancybox-group=\"images\" data-fancybox-href=\"/spaceimages/images/largesize/PIA23189_hires.jpg\" data-link=\"/spaceimages/details.php?id=PIA23189\" data-thumbnail=\"/spaceimages/images/wallpaper/PIA23189-640x350.jpg\" data-title=\"Gasa Crater\">\\n     <div class=\"image_and_description_container\">\\n      <div class=\"rollover_description\">\\n       <h3 class=\"release_date\">\\n        April 30, 2019\\n       </h3>\\n       <div class=\"item_tease_overlay\">\\n        Gasa Crater\\n       </div>\\n       <div class=\"overlay_arrow\">\\n        <img alt=\"more arrow\" src=\"/assets/images/overlay-arrow.png\"/>\\n       </div>\\n      </div>\\n      <div class=\"img\">\\n       <img alt=\"Gasa Crater\" class=\"thumb\" src=\"/spaceimages/images/wallpaper/PIA23189-640x350.jpg\" title=\"Gasa Crater\"/>\\n      </div>\\n      <div class=\"list_text_content\">\\n       <div class=\"article_teaser_body\">\\n        April 30, 2019\\n       </div>\\n       <div class=\"content_title\">\\n        Gasa Crater\\n       </div>\\n       <div class=\"article_teaser_body\">\\n        This image from NASAs Mars Odyssey shows Gasa Crater located on the floor of a larger unnamed crater Eridania Planitia.\\n       </div>\\n      </div>\\n     </div>\\n    </a>\\n   </li>\\n   <li class=\"slide\">\\n    <a class=\"fancybox\" data-description=\"This image from NASAs Mars Odyssey shows Angustus Labyrinthus, a unique region near the south polar cap.\" data-fancybox-group=\"images\" data-fancybox-href=\"/spaceimages/images/largesize/PIA23188_hires.jpg\" data-link=\"/spaceimages/details.php?id=PIA23188\" data-thumbnail=\"/spaceimages/images/wallpaper/PIA23188-640x350.jpg\" data-title=\"Angustus Labyrinthus\">\\n     <div class=\"image_and_description_container\">\\n      <div class=\"rollover_description\">\\n       <h3 class=\"release_date\">\\n        April 29, 2019\\n       </h3>\\n       <div class=\"item_tease_overlay\">\\n        Angustus Labyrinthus\\n       </div>\\n       <div class=\"overlay_arrow\">\\n        <img alt=\"more arrow\" src=\"/assets/images/overlay-arrow.png\"/>\\n       </div>\\n      </div>\\n      <div class=\"img\">\\n       <img alt=\"Angustus Labyrinthus\" class=\"thumb\" src=\"/spaceimages/images/wallpaper/PIA23188-640x350.jpg\" title=\"Angustus Labyrinthus\"/>\\n      </div>\\n      <div class=\"list_text_content\">\\n       <div class=\"article_teaser_body\">\\n        April 29, 2019\\n       </div>\\n       <div class=\"content_title\">\\n        Angustus Labyrinthus\\n       </div>\\n       <div class=\"article_teaser_body\">\\n        This image from NASAs Mars Odyssey shows Angustus Labyrinthus, a unique region near the south polar cap.\\n       </div>\\n      </div>\\n     </div>\\n    </a>\\n   </li>\\n   <li class=\"slide\">\\n    <a class=\"fancybox\" data-description=\"This image from NASAs Mars Odyssey is located near the south polar cap and exhibits the same layering of ice and dust.\" data-fancybox-group=\"images\" data-fancybox-href=\"/spaceimages/images/largesize/PIA23187_hires.jpg\" data-link=\"/spaceimages/details.php?id=PIA23187\" data-thumbnail=\"/spaceimages/images/wallpaper/PIA23187-640x350.jpg\" data-title=\"Polar Outliers\">\\n     <div class=\"image_and_description_container\">\\n      <div class=\"rollover_description\">\\n       <h3 class=\"release_date\">\\n        April 26, 2019\\n       </h3>\\n       <div class=\"item_tease_overlay\">\\n        Polar Outliers\\n       </div>\\n       <div class=\"overlay_arrow\">\\n        <img alt=\"more arrow\" src=\"/assets/images/overlay-arrow.png\"/>\\n       </div>\\n      </div>\\n      <div class=\"img\">\\n       <img alt=\"Polar Outliers\" class=\"thumb\" src=\"/spaceimages/images/wallpaper/PIA23187-640x350.jpg\" title=\"Polar Outliers\"/>\\n      </div>\\n      <div class=\"list_text_content\">\\n       <div class=\"article_teaser_body\">\\n        April 26, 2019\\n       </div>\\n       <div class=\"content_title\">\\n        Polar Outliers\\n       </div>\\n       <div class=\"article_teaser_body\">\\n        This image from NASAs Mars Odyssey is located near the south polar cap and exhibits the same layering of ice and dust.\\n       </div>\\n      </div>\\n     </div>\\n    </a>\\n   </li>\\n   <li class=\"slide\">\\n    <a class=\"fancybox\" data-description=\"This is the final traverse map for NASAs Opportunity rover, showing where the rover was located within Perseverance Valley on June 10, 2018, the last date it made contact with its engineering team.\" data-fancybox-group=\"images\" data-fancybox-href=\"/spaceimages/images/largesize/PIA23178_hires.jpg\" data-link=\"/spaceimages/details.php?id=PIA23178\" data-thumbnail=\"/spaceimages/images/wallpaper/PIA23178-640x350.jpg\" data-title=\"Opportunity\" final=\"\" map\\'=\"\" s=\"\" traverse=\"\">\\n     <div class=\"image_and_description_container\">\\n      <div class=\"rollover_description\">\\n       <h3 class=\"release_date\">\\n        April 25, 2019\\n       </h3>\\n       <div class=\"item_tease_overlay\">\\n        Opportunity\\'s Final Traverse Map\\n       </div>\\n       <div class=\"overlay_arrow\">\\n        <img alt=\"more arrow\" src=\"/assets/images/overlay-arrow.png\"/>\\n       </div>\\n      </div>\\n      <div class=\"img\">\\n       <img alt=\"Opportunity\" class=\"thumb\" final=\"\" map\\'=\"\" s=\"\" src=\"/spaceimages/images/wallpaper/PIA23178-640x350.jpg\" title=\"Opportunity\" traverse=\"\"/>\\n      </div>\\n      <div class=\"list_text_content\">\\n       <div class=\"article_teaser_body\">\\n        April 25, 2019\\n       </div>\\n       <div class=\"content_title\">\\n        Opportunity\\'s Final Traverse Map\\n       </div>\\n       <div class=\"article_teaser_body\">\\n        This is the final traverse map for NASAs Opportunity rover, showing where the rover was located within Perseverance Valley on June 10, 2018, the last date it made contact with its engineering team.\\n       </div>\\n      </div>\\n     </div>\\n    </a>\\n   </li>\\n   <li class=\"slide\">\\n    <a class=\"fancybox\" data-description=\"This image from NASAs Mars Odyssey shows Cavi Angusti, located near the south polar cap.\" data-fancybox-group=\"images\" data-fancybox-href=\"/spaceimages/images/largesize/PIA23186_hires.jpg\" data-link=\"/spaceimages/details.php?id=PIA23186\" data-thumbnail=\"/spaceimages/images/wallpaper/PIA23186-640x350.jpg\" data-title=\"Cavi Angusti\">\\n     <div class=\"image_and_description_container\">\\n      <div class=\"rollover_description\">\\n       <h3 class=\"release_date\">\\n        April 25, 2019\\n       </h3>\\n       <div class=\"item_tease_overlay\">\\n        Cavi Angusti\\n       </div>\\n       <div class=\"overlay_arrow\">\\n        <img alt=\"more arrow\" src=\"/assets/images/overlay-arrow.png\"/>\\n       </div>\\n      </div>\\n      <div class=\"img\">\\n       <img alt=\"Cavi Angusti\" class=\"thumb\" src=\"/spaceimages/images/wallpaper/PIA23186-640x350.jpg\" title=\"Cavi Angusti\"/>\\n      </div>\\n      <div class=\"list_text_content\">\\n       <div class=\"article_teaser_body\">\\n        April 25, 2019\\n       </div>\\n       <div class=\"content_title\">\\n        Cavi Angusti\\n       </div>\\n       <div class=\"article_teaser_body\">\\n        This image from NASAs Mars Odyssey shows Cavi Angusti, located near the south polar cap.\\n       </div>\\n      </div>\\n     </div>\\n    </a>\\n   </li>\\n   <li class=\"slide\">\\n    <a class=\"fancybox\" data-description=\"This image shows NASAs InSight landers domed Wind and Thermal Shield, which covers its seismometer. The image was taken on the 110th Martian day, or sol, of the mission.\" data-fancybox-group=\"images\" data-fancybox-href=\"/spaceimages/images/largesize/PIA23177_hires.jpg\" data-link=\"/spaceimages/details.php?id=PIA23177\" data-thumbnail=\"/spaceimages/images/wallpaper/PIA23177-640x350.jpg\" data-title=\"InSight\" martian=\"\" on=\"\" s=\"\" seismometer=\"\" surface\\'=\"\" the=\"\">\\n     <div class=\"image_and_description_container\">\\n      <div class=\"rollover_description\">\\n       <h3 class=\"release_date\">\\n        April 23, 2019\\n       </h3>\\n       <div class=\"item_tease_overlay\">\\n        InSight\\'s Seismometer on the Martian Surface\\n       </div>\\n       <div class=\"overlay_arrow\">\\n        <img alt=\"more arrow\" src=\"/assets/images/overlay-arrow.png\"/>\\n       </div>\\n      </div>\\n      <div class=\"img\">\\n       <img alt=\"InSight\" class=\"thumb\" martian=\"\" on=\"\" s=\"\" seismometer=\"\" src=\"/spaceimages/images/wallpaper/PIA23177-640x350.jpg\" surface\\'=\"\" the=\"\" title=\"InSight\"/>\\n      </div>\\n      <div class=\"list_text_content\">\\n       <div class=\"article_teaser_body\">\\n        April 23, 2019\\n       </div>\\n       <div class=\"content_title\">\\n        InSight\\'s Seismometer on the Martian Surface\\n       </div>\\n       <div class=\"article_teaser_body\">\\n        This image shows NASAs InSight landers domed Wind and Thermal Shield, which covers its seismometer. The image was taken on the 110th Martian day, or sol, of the mission.\\n       </div>\\n      </div>\\n     </div>\\n    </a>\\n   </li>\\n   <li class=\"slide\">\\n    <a 128=\"\" class=\"fancybox\" data-description=\"This video and audio diagram illustrates a seismic event detected by NASAs InSight lander on April 6, 2019, the 128th Martian day, or sol, of the mission.\" data-fancybox-group=\"images\" data-fancybox-href=\"/spaceimages/images/largesize/PIA23176_hires.jpg\" data-link=\"/spaceimages/details.php?id=PIA23176\" data-thumbnail=\"/spaceimages/images/wallpaper/PIA23176-640x350.jpg\" data-title=\"InSight\" event\\'=\"\" s=\"\" seismic=\"\" sol=\"\">\\n     <div class=\"image_and_description_container\">\\n      <div class=\"rollover_description\">\\n       <h3 class=\"release_date\">\\n        April 23, 2019\\n       </h3>\\n       <div class=\"item_tease_overlay\">\\n        InSight\\'s Sol 128 Seismic Event\\n       </div>\\n       <div class=\"overlay_arrow\">\\n        <img alt=\"more arrow\" src=\"/assets/images/overlay-arrow.png\"/>\\n       </div>\\n      </div>\\n      <div class=\"img\">\\n       <img 128=\"\" alt=\"InSight\" class=\"thumb\" event\\'=\"\" s=\"\" seismic=\"\" sol=\"\" src=\"/spaceimages/images/wallpaper/PIA23176-640x350.jpg\" title=\"InSight\"/>\\n      </div>\\n      <div class=\"list_text_content\">\\n       <div class=\"article_teaser_body\">\\n        April 23, 2019\\n       </div>\\n       <div class=\"content_title\">\\n        InSight\\'s Sol 128 Seismic Event\\n       </div>\\n       <div class=\"article_teaser_body\">\\n        This video and audio diagram illustrates a seismic event detected by NASAs InSight lander on April 6, 2019, the 128th Martian day, or sol, of the mission.\\n       </div>\\n      </div>\\n     </div>\\n    </a>\\n   </li>\\n  </ul>\\n  <footer>\\n   <div class=\"more_button\">\\n    <a class=\"button\" href=\"\">\\n     MORE\\n    </a>\\n   </div>\\n  </footer>\\n </div>\\n</section>\\n'"
      ]
     },
     "execution_count": 14,
     "metadata": {},
     "output_type": "execute_result"
    }
   ],
   "source": [
    "block1 = soup2.find('section', class_='grid_gallery')\n",
    "block1.prettify()"
   ]
  },
  {
   "cell_type": "code",
   "execution_count": 15,
   "metadata": {},
   "outputs": [
    {
     "name": "stdout",
     "output_type": "stream",
     "text": [
      "<a class=\"fancybox\" data-description=\"This image from NASAs Mars Odyssey shows an unnamed crater north of Meridiani Planum.\" data-fancybox-group=\"images\" data-fancybox-href=\"/spaceimages/images/largesize/PIA23220_hires.jpg\" data-link=\"/spaceimages/details.php?id=PIA23220\" data-thumbnail=\"/spaceimages/images/wallpaper/PIA23220-640x350.jpg\" data-title=\"Crater Dunes - False Color\">\n",
      "<div class=\"image_and_description_container\">\n",
      "<div class=\"rollover_description\">\n",
      "<h3 class=\"release_date\">May 16, 2019</h3>\n",
      "<div class=\"item_tease_overlay\">Crater Dunes - False Color</div>\n",
      "<div class=\"overlay_arrow\">\n",
      "<img alt=\"more arrow\" src=\"/assets/images/overlay-arrow.png\"/>\n",
      "</div>\n",
      "</div>\n",
      "<div class=\"img\">\n",
      "<img alt=\"Crater Dunes - False Color\" class=\"thumb\" src=\"/spaceimages/images/wallpaper/PIA23220-640x350.jpg\" title=\"Crater Dunes - False Color\"/>\n",
      "</div>\n",
      "<div class=\"list_text_content\">\n",
      "<div class=\"article_teaser_body\">May 16, 2019</div>\n",
      "<div class=\"content_title\">\n",
      "\t\t\t\t\t\t\t\t\t\t  Crater Dunes - False Color\n",
      "\t\t\t\t\t\t\t\t\t\t</div>\n",
      "<div class=\"article_teaser_body\">\n",
      "\t\t\t\t\t\t\t\t\t\t  This image from NASAs Mars Odyssey shows an unnamed crater north of Meridiani Planum.\n",
      "\t\t\t\t\t\t\t\t\t\t</div>\n",
      "</div>\n",
      "</div>\n",
      "</a>\n"
     ]
    }
   ],
   "source": [
    "block2 = block1.find('a', class_='fancybox')\n",
    "print(block2)"
   ]
  },
  {
   "cell_type": "code",
   "execution_count": 16,
   "metadata": {},
   "outputs": [
    {
     "data": {
      "text/plain": [
       "'/spaceimages/images/largesize/PIA23220_hires.jpg'"
      ]
     },
     "execution_count": 16,
     "metadata": {},
     "output_type": "execute_result"
    }
   ],
   "source": [
    "image_url = block2['data-fancybox-href']\n",
    "image_url"
   ]
  },
  {
   "cell_type": "code",
   "execution_count": 17,
   "metadata": {},
   "outputs": [
    {
     "data": {
      "text/plain": [
       "'https://www.jpl.nasa.gov/spaceimages/images/largesize/PIA23220_hires.jpg'"
      ]
     },
     "execution_count": 17,
     "metadata": {},
     "output_type": "execute_result"
    }
   ],
   "source": [
    "featured_image_url = 'https://www.jpl.nasa.gov' + image_url\n",
    "featured_image_url"
   ]
  },
  {
   "cell_type": "code",
   "execution_count": 18,
   "metadata": {},
   "outputs": [],
   "source": [
    "url3 = 'https://twitter.com/marswxreport?lang=en'"
   ]
  },
  {
   "cell_type": "code",
   "execution_count": 19,
   "metadata": {},
   "outputs": [],
   "source": [
    "browser.visit(url3)"
   ]
  },
  {
   "cell_type": "code",
   "execution_count": 20,
   "metadata": {},
   "outputs": [],
   "source": [
    "html3 = browser.html"
   ]
  },
  {
   "cell_type": "code",
   "execution_count": 21,
   "metadata": {},
   "outputs": [],
   "source": [
    "soup3 = BeautifulSoup(html3, 'html.parser')"
   ]
  },
  {
   "cell_type": "code",
   "execution_count": 22,
   "metadata": {},
   "outputs": [
    {
     "name": "stdout",
     "output_type": "stream",
     "text": [
      "This is what a sunset on Earth looks like from above. / So sieht ein irdischer Sonnenuntergang aus, von oben gesehen. #Horizons #Archivepic.twitter.com/sgijQq8hYt\n"
     ]
    }
   ],
   "source": [
    "block3 = soup3.find('p', class_='js-tweet-text').text\n",
    "print(block3)"
   ]
  },
  {
   "cell_type": "code",
   "execution_count": 23,
   "metadata": {},
   "outputs": [
    {
     "data": {
      "text/plain": [
       "'This is what a sunset on Earth looks like from above. / So sieht ein irdischer Sonnenuntergang aus, von oben gesehen. #Horizons #Archivepic.twitter.com/sgijQq8hYt'"
      ]
     },
     "execution_count": 23,
     "metadata": {},
     "output_type": "execute_result"
    }
   ],
   "source": [
    "mars_weather = block3\n",
    "mars_weather"
   ]
  },
  {
   "cell_type": "code",
   "execution_count": 24,
   "metadata": {},
   "outputs": [],
   "source": [
    "#now using Pandas\n",
    "url4 = 'https://space-facts.com/mars/'"
   ]
  },
  {
   "cell_type": "code",
   "execution_count": 25,
   "metadata": {},
   "outputs": [
    {
     "data": {
      "text/plain": [
       "[                      0                              1\n",
       " 0  Equatorial Diameter:                       6,792 km\n",
       " 1       Polar Diameter:                       6,752 km\n",
       " 2                 Mass:  6.42 x 10^23 kg (10.7% Earth)\n",
       " 3                Moons:            2 (Phobos & Deimos)\n",
       " 4       Orbit Distance:       227,943,824 km (1.52 AU)\n",
       " 5         Orbit Period:           687 days (1.9 years)\n",
       " 6  Surface Temperature:                  -153 to 20 °C\n",
       " 7         First Record:              2nd millennium BC\n",
       " 8          Recorded By:           Egyptian astronomers]"
      ]
     },
     "execution_count": 25,
     "metadata": {},
     "output_type": "execute_result"
    }
   ],
   "source": [
    "table = pd.read_html(url4)\n",
    "table"
   ]
  },
  {
   "cell_type": "code",
   "execution_count": 26,
   "metadata": {},
   "outputs": [
    {
     "data": {
      "text/plain": [
       "'<table border=\"1\" class=\"dataframe\">\\n  <thead>\\n    <tr style=\"text-align: right;\">\\n      <th></th>\\n      <th>0</th>\\n      <th>1</th>\\n    </tr>\\n  </thead>\\n  <tbody>\\n    <tr>\\n      <th>0</th>\\n      <td>Equatorial Diameter:</td>\\n      <td>6,792 km</td>\\n    </tr>\\n    <tr>\\n      <th>1</th>\\n      <td>Polar Diameter:</td>\\n      <td>6,752 km</td>\\n    </tr>\\n    <tr>\\n      <th>2</th>\\n      <td>Mass:</td>\\n      <td>6.42 x 10^23 kg (10.7% Earth)</td>\\n    </tr>\\n    <tr>\\n      <th>3</th>\\n      <td>Moons:</td>\\n      <td>2 (Phobos &amp; Deimos)</td>\\n    </tr>\\n    <tr>\\n      <th>4</th>\\n      <td>Orbit Distance:</td>\\n      <td>227,943,824 km (1.52 AU)</td>\\n    </tr>\\n    <tr>\\n      <th>5</th>\\n      <td>Orbit Period:</td>\\n      <td>687 days (1.9 years)</td>\\n    </tr>\\n    <tr>\\n      <th>6</th>\\n      <td>Surface Temperature:</td>\\n      <td>-153 to 20 °C</td>\\n    </tr>\\n    <tr>\\n      <th>7</th>\\n      <td>First Record:</td>\\n      <td>2nd millennium BC</td>\\n    </tr>\\n    <tr>\\n      <th>8</th>\\n      <td>Recorded By:</td>\\n      <td>Egyptian astronomers</td>\\n    </tr>\\n  </tbody>\\n</table>'"
      ]
     },
     "execution_count": 26,
     "metadata": {},
     "output_type": "execute_result"
    }
   ],
   "source": [
    "html_table = table[0].to_html()\n",
    "html_table"
   ]
  },
  {
   "cell_type": "code",
   "execution_count": 27,
   "metadata": {},
   "outputs": [],
   "source": [
    "url5 = 'https://astrogeology.usgs.gov/search/results?q=hemisphere+enhanced&k1=target&v1=Mars'"
   ]
  },
  {
   "cell_type": "code",
   "execution_count": 28,
   "metadata": {},
   "outputs": [],
   "source": [
    "browser.visit(url5)"
   ]
  },
  {
   "cell_type": "code",
   "execution_count": 29,
   "metadata": {},
   "outputs": [],
   "source": [
    "html5 = browser.html"
   ]
  },
  {
   "cell_type": "code",
   "execution_count": 30,
   "metadata": {},
   "outputs": [],
   "source": [
    "soup5 = BeautifulSoup(html5, 'html.parser')"
   ]
  },
  {
   "cell_type": "code",
   "execution_count": 31,
   "metadata": {},
   "outputs": [
    {
     "data": {
      "text/plain": [
       "['/search/map/Mars/Viking/cerberus_enhanced',\n",
       " '/search/map/Mars/Viking/cerberus_enhanced',\n",
       " '/search/map/Mars/Viking/schiaparelli_enhanced',\n",
       " '/search/map/Mars/Viking/schiaparelli_enhanced',\n",
       " '/search/map/Mars/Viking/syrtis_major_enhanced',\n",
       " '/search/map/Mars/Viking/syrtis_major_enhanced',\n",
       " '/search/map/Mars/Viking/valles_marineris_enhanced',\n",
       " '/search/map/Mars/Viking/valles_marineris_enhanced']"
      ]
     },
     "execution_count": 31,
     "metadata": {},
     "output_type": "execute_result"
    }
   ],
   "source": [
    "list_links = soup5.find_all('a', class_=\"product-item\")\n",
    "list_url = []\n",
    "for l in list_links:\n",
    "    list_url.append(l[\"href\"])\n",
    "list_url   "
   ]
  },
  {
   "cell_type": "code",
   "execution_count": 32,
   "metadata": {},
   "outputs": [
    {
     "data": {
      "text/plain": [
       "['/search/map/Mars/Viking/cerberus_enhanced',\n",
       " '/search/map/Mars/Viking/schiaparelli_enhanced',\n",
       " '/search/map/Mars/Viking/syrtis_major_enhanced',\n",
       " '/search/map/Mars/Viking/valles_marineris_enhanced']"
      ]
     },
     "execution_count": 32,
     "metadata": {},
     "output_type": "execute_result"
    }
   ],
   "source": [
    "list_url = list_url[::2]\n",
    "list_url"
   ]
  },
  {
   "cell_type": "code",
   "execution_count": 35,
   "metadata": {},
   "outputs": [
    {
     "data": {
      "text/plain": [
       "[{'title': 'Cerberus Hemisphere',\n",
       "  'img_url': 'http://astropedia.astrogeology.usgs.gov/download/Mars/Viking/cerberus_enhanced.tif/full.jpg'},\n",
       " {'title': 'Schiaparelli Hemisphere',\n",
       "  'img_url': 'http://astropedia.astrogeology.usgs.gov/download/Mars/Viking/schiaparelli_enhanced.tif/full.jpg'},\n",
       " {'title': 'Syrtis Major Hemisphere',\n",
       "  'img_url': 'http://astropedia.astrogeology.usgs.gov/download/Mars/Viking/syrtis_major_enhanced.tif/full.jpg'},\n",
       " {'title': 'Valles Marineris Hemisphere',\n",
       "  'img_url': 'http://astropedia.astrogeology.usgs.gov/download/Mars/Viking/valles_marineris_enhanced.tif/full.jpg'}]"
      ]
     },
     "execution_count": 35,
     "metadata": {},
     "output_type": "execute_result"
    }
   ],
   "source": [
    "hemisphere_range_urls = []\n",
    "for item in list_url: \n",
    "    html6 = 'https://astrogeology.usgs.gov' + item\n",
    "    soup6 = BeautifulSoup(requests.get(html6).text, 'html.parser')\n",
    "    hemisphere_title = soup6.find('h2').text[:-9]\n",
    "    hemisphere_url = soup6.find('a', target='_blank')['href']\n",
    "    hemisphere_range_urls.append({'title': hemisphere_title, 'img_url': hemisphere_url})\n",
    "hemisphere_range_urls"
   ]
  },
  {
   "cell_type": "code",
   "execution_count": 36,
   "metadata": {},
   "outputs": [],
   "source": [
    "browser.quit()"
   ]
  },
  {
   "cell_type": "code",
   "execution_count": null,
   "metadata": {},
   "outputs": [],
   "source": []
  },
  {
   "cell_type": "code",
   "execution_count": null,
   "metadata": {},
   "outputs": [],
   "source": []
  },
  {
   "cell_type": "code",
   "execution_count": null,
   "metadata": {},
   "outputs": [],
   "source": []
  },
  {
   "cell_type": "code",
   "execution_count": 6,
   "metadata": {},
   "outputs": [],
   "source": []
  },
  {
   "cell_type": "code",
   "execution_count": null,
   "metadata": {},
   "outputs": [],
   "source": []
  },
  {
   "cell_type": "code",
   "execution_count": 9,
   "metadata": {},
   "outputs": [],
   "source": []
  },
  {
   "cell_type": "code",
   "execution_count": null,
   "metadata": {},
   "outputs": [],
   "source": []
  },
  {
   "cell_type": "code",
   "execution_count": null,
   "metadata": {},
   "outputs": [],
   "source": []
  },
  {
   "cell_type": "code",
   "execution_count": null,
   "metadata": {},
   "outputs": [],
   "source": []
  }
 ],
 "metadata": {
  "kernelspec": {
   "display_name": "Python 3",
   "language": "python",
   "name": "python3"
  },
  "language_info": {
   "codemirror_mode": {
    "name": "ipython",
    "version": 3
   },
   "file_extension": ".py",
   "mimetype": "text/x-python",
   "name": "python",
   "nbconvert_exporter": "python",
   "pygments_lexer": "ipython3",
   "version": "3.7.2"
  }
 },
 "nbformat": 4,
 "nbformat_minor": 2
}
